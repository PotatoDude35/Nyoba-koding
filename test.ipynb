{
 "cells": [
  {
   "cell_type": "code",
   "execution_count": 1,
   "id": "1d81a4ff",
   "metadata": {},
   "outputs": [
    {
     "name": "stdout",
     "output_type": "stream",
     "text": [
      "hello\n"
     ]
    }
   ],
   "source": [
    "print(\"hello\")"
   ]
  },
  {
   "cell_type": "code",
   "execution_count": 2,
   "id": "ae2bb531",
   "metadata": {},
   "outputs": [
    {
     "name": "stdout",
     "output_type": "stream",
     "text": [
      "2\n"
     ]
    }
   ],
   "source": [
    "x=1\n",
    "y=1\n",
    "z=x+y\n",
    "print(z)"
   ]
  },
  {
   "cell_type": "code",
   "execution_count": 3,
   "id": "e9a6584c",
   "metadata": {},
   "outputs": [
    {
     "data": {
      "text/plain": [
       "str"
      ]
     },
     "execution_count": 3,
     "metadata": {},
     "output_type": "execute_result"
    }
   ],
   "source": [
    "x=\"1\" \n",
    "type(x)\n"
   ]
  },
  {
   "cell_type": "code",
   "execution_count": 4,
   "id": "0202435f",
   "metadata": {},
   "outputs": [
    {
     "data": {
      "text/plain": [
       "'11'"
      ]
     },
     "execution_count": 4,
     "metadata": {},
     "output_type": "execute_result"
    }
   ],
   "source": [
    "x+x"
   ]
  },
  {
   "cell_type": "code",
   "execution_count": 5,
   "id": "cbecafed",
   "metadata": {},
   "outputs": [
    {
     "name": "stdout",
     "output_type": "stream",
     "text": [
      "turu dulu\n"
     ]
    }
   ],
   "source": [
    "print(\"turu dulu\")"
   ]
  },
  {
   "cell_type": "code",
   "execution_count": null,
   "id": "98632c6c",
   "metadata": {},
   "outputs": [
    {
     "name": "stdout",
     "output_type": "stream",
     "text": [
      "H is not in there\n",
      "h is in the string\n",
      "it could be the word hello\n"
     ]
    }
   ],
   "source": [
    "#Lesson 7 Conditional Statements\n",
    "my_string = \"hello\"\n",
    "if \"H\" in my_string:\n",
    "    print(\"H is in the string\")\n",
    "else: \n",
    "    print(\"H is not in there\")\n",
    "#the order of if else matters\n",
    "if \"h\" in my_string:\n",
    "    print(\"h is in the string\")\n",
    "elif \"H\" in my_string:\n",
    "    print(\"H is in the string\")\n",
    "else: print(\"no h and no H\")\n",
    "if my_string[0] == \"h\" or my_string[0] == \"H\":\n",
    "    print(\"it could be the word hello\")\n"
   ]
  },
  {
   "cell_type": "code",
   "execution_count": 1,
   "id": "fb1ea3d7",
   "metadata": {},
   "outputs": [
    {
     "name": "stdout",
     "output_type": "stream",
     "text": [
      "['a', 'b', 'c']\n"
     ]
    },
    {
     "data": {
      "text/plain": [
       "['a', 3.14, 'c', 'd', 2.71]"
      ]
     },
     "execution_count": 1,
     "metadata": {},
     "output_type": "execute_result"
    }
   ],
   "source": [
    "#Lesson 8 Lists\n",
    "my_list=['a', 'b', 'c']\n",
    "print(my_list)\n",
    "my_list[0]\n",
    "my_list[1]\n",
    "my_list[2]\n",
    "list_1=['ab', 'cd', 'ef']\n",
    "list_1\n",
    "my_list.append('d') #adds to list\n",
    "e=2.71\n",
    "my_list.append(e)\n",
    "my_list\n",
    "my_list[1]=3.14\n",
    "my_list\n",
    "my_list.insert(3,0)\n",
    "my_list\n",
    "'a' in my_list\n",
    "'e' in my_list\n",
    "my_list.index('a')\n",
    "my_list.index('d')\n",
    "my_list.index(e)\n",
    "del my_list[3]\n",
    "my_list\n"
   ]
  },
  {
   "cell_type": "code",
   "execution_count": null,
   "id": "6708b013",
   "metadata": {},
   "outputs": [],
   "source": []
  }
 ],
 "metadata": {
  "kernelspec": {
   "display_name": "Belajar",
   "language": "python",
   "name": "python3"
  },
  "language_info": {
   "codemirror_mode": {
    "name": "ipython",
    "version": 3
   },
   "file_extension": ".py",
   "mimetype": "text/x-python",
   "name": "python",
   "nbconvert_exporter": "python",
   "pygments_lexer": "ipython3",
   "version": "3.11.11"
  }
 },
 "nbformat": 4,
 "nbformat_minor": 5
}
