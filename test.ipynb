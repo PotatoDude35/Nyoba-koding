{
 "cells": [
  {
   "cell_type": "code",
   "execution_count": 1,
   "id": "1d81a4ff",
   "metadata": {},
   "outputs": [
    {
     "name": "stdout",
     "output_type": "stream",
     "text": [
      "hello\n"
     ]
    }
   ],
   "source": [
    "print(\"hello\")"
   ]
  },
  {
   "cell_type": "code",
   "execution_count": 2,
   "id": "ae2bb531",
   "metadata": {},
   "outputs": [
    {
     "name": "stdout",
     "output_type": "stream",
     "text": [
      "2\n"
     ]
    }
   ],
   "source": [
    "x=1\n",
    "y=1\n",
    "z=x+y\n",
    "print(z)"
   ]
  },
  {
   "cell_type": "code",
   "execution_count": 3,
   "id": "e9a6584c",
   "metadata": {},
   "outputs": [
    {
     "data": {
      "text/plain": [
       "str"
      ]
     },
     "execution_count": 3,
     "metadata": {},
     "output_type": "execute_result"
    }
   ],
   "source": [
    "x=\"1\" \n",
    "type(x)\n"
   ]
  },
  {
   "cell_type": "code",
   "execution_count": 4,
   "id": "0202435f",
   "metadata": {},
   "outputs": [
    {
     "data": {
      "text/plain": [
       "'11'"
      ]
     },
     "execution_count": 4,
     "metadata": {},
     "output_type": "execute_result"
    }
   ],
   "source": [
    "x+x"
   ]
  },
  {
   "cell_type": "code",
   "execution_count": 5,
   "id": "cbecafed",
   "metadata": {},
   "outputs": [
    {
     "name": "stdout",
     "output_type": "stream",
     "text": [
      "turu dulu\n"
     ]
    }
   ],
   "source": [
    "print(\"turu dulu\")"
   ]
  },
  {
   "cell_type": "code",
   "execution_count": null,
   "id": "98632c6c",
   "metadata": {},
   "outputs": [
    {
     "name": "stdout",
     "output_type": "stream",
     "text": [
      "H is not in there\n",
      "h is in the string\n",
      "it could be the word hello\n"
     ]
    }
   ],
   "source": [
    "#Lesson 7 Conditional Statements\n",
    "my_string = \"hello\"\n",
    "if \"H\" in my_string:\n",
    "    print(\"H is in the string\")\n",
    "else: \n",
    "    print(\"H is not in there\")\n",
    "#the order of if else matters\n",
    "if \"h\" in my_string:\n",
    "    print(\"h is in the string\")\n",
    "elif \"H\" in my_string:\n",
    "    print(\"H is in the string\")\n",
    "else: print(\"no h and no H\")\n",
    "if my_string[0] == \"h\" or my_string[0] == \"H\":\n",
    "    print(\"it could be the word hello\")\n"
   ]
  },
  {
   "cell_type": "code",
   "execution_count": 4,
   "id": "fb1ea3d7",
   "metadata": {},
   "outputs": [
    {
     "name": "stdout",
     "output_type": "stream",
     "text": [
      "['a', 'b', 'c'] #test\n"
     ]
    },
    {
     "ename": "TypeError",
     "evalue": "list indices must be integers or slices, not tuple",
     "output_type": "error",
     "traceback": [
      "\u001b[31m---------------------------------------------------------------------------\u001b[39m",
      "\u001b[31mTypeError\u001b[39m                                 Traceback (most recent call last)",
      "\u001b[36mCell\u001b[39m\u001b[36m \u001b[39m\u001b[32mIn[4]\u001b[39m\u001b[32m, line 4\u001b[39m\n\u001b[32m      2\u001b[39m my_list=[\u001b[33m'\u001b[39m\u001b[33ma\u001b[39m\u001b[33m'\u001b[39m, \u001b[33m'\u001b[39m\u001b[33mb\u001b[39m\u001b[33m'\u001b[39m, \u001b[33m'\u001b[39m\u001b[33mc\u001b[39m\u001b[33m'\u001b[39m]\n\u001b[32m      3\u001b[39m \u001b[38;5;28mprint\u001b[39m(my_list, \u001b[33m\"\u001b[39m\u001b[33m#test\u001b[39m\u001b[33m\"\u001b[39m)\n\u001b[32m----> \u001b[39m\u001b[32m4\u001b[39m \u001b[38;5;28mprint\u001b[39m(\u001b[43mmy_list\u001b[49m\u001b[43m[\u001b[49m\u001b[32;43m0\u001b[39;49m\u001b[43m,\u001b[49m\u001b[33;43m\"\u001b[39;49m\u001b[33;43m#list starts from 0, not. 0 here refers to the first element which is a\u001b[39;49m\u001b[33;43m\"\u001b[39;49m\u001b[43m]\u001b[49m)\n\u001b[32m      5\u001b[39m my_list[\u001b[32m1\u001b[39m]\n\u001b[32m      6\u001b[39m my_list[\u001b[32m2\u001b[39m]\n",
      "\u001b[31mTypeError\u001b[39m: list indices must be integers or slices, not tuple"
     ]
    }
   ],
   "source": [
    "#Lesson 8 Lists\n",
    "my_list=['a', 'b', 'c']\n",
    "print(my_list, \"#test\")\n",
    "print(my_list[0,\"#list starts from 0, not. 0 here refers to the first element which is a\"])\n",
    "my_list[1]\n",
    "my_list[2]\n",
    "list_1=['ab', 'cd', 'ef']\n",
    "list_1\n",
    "my_list.append('d') #adds to list\n",
    "e=2.71\n",
    "my_list.append(e)\n",
    "my_list\n",
    "my_list[1]=3.14\n",
    "my_list\n",
    "my_list.insert(3,0)\n",
    "my_list\n",
    "'a' in my_list\n",
    "'e' in my_list\n",
    "my_list.index('a')\n",
    "my_list.index('d')\n",
    "my_list.index(e)\n",
    "del my_list[3]\n",
    "my_list\n"
   ]
  },
  {
   "cell_type": "code",
   "execution_count": 29,
   "id": "6708b013",
   "metadata": {},
   "outputs": [
    {
     "name": "stdout",
     "output_type": "stream",
     "text": [
      "[1, 7, 9, 4]\n",
      "[1, 4, 7, 9] now its sorted\n",
      "['H', 'He', 'Li', 'Be', 'B', 'C', 'N', 'O', 'F', 'Ne']\n",
      "['B', 'Be', 'C', 'F', 'H', 'He', 'Li', 'N', 'Ne', 'O'] now its sorted\n",
      "1 lowest number\n",
      "B sorted alphabetically\n",
      "[1, 2, 3, 4, 5, 6]\n",
      "[1, 2, 3, 4, 5, 6, 1, 2, 3] adds a to c\n",
      "2 counts how many times 3 appears in c\n",
      "[1, 2, 3, 4, 5, 6, 1, 2, 3]\n",
      "[3, 2, 1, 6, 5, 4, 3, 1]\n"
     ]
    },
    {
     "data": {
      "text/plain": [
       "[1, 6, 5, 4, 3, 1]"
      ]
     },
     "execution_count": 29,
     "metadata": {},
     "output_type": "execute_result"
    }
   ],
   "source": [
    "#Lesson 9 Sorting & Slicing\n",
    "masses = [1,7,9,4]\n",
    "print(masses)\n",
    "masses.sort() #numerically sorts\n",
    "print(masses, \"now its sorted\")\n",
    "elements = ['H', 'He', 'Li', 'Be', 'B', 'C', 'N', 'O', 'F', 'Ne']\n",
    "print(elements)\n",
    "elements.sort() #alphabetically sorts\n",
    "print(elements, \"now its sorted\")\n",
    "print(min(masses), \"lowest number\")\n",
    "print(min(elements), \"sorted alphabetically\")\n",
    "a=[1,2,3]\n",
    "b=[4,5,6]\n",
    "c=a+b\n",
    "print(c)\n",
    "c +=a \n",
    "print(c,\"adds a to c\")\n",
    "print(c.count(3), \"counts how many times 3 appears in c\")\n",
    "c.append(7)\n",
    "c\n",
    "c.extend((3,3,3,3))\n",
    "c\n",
    "c.pop() #indexes and removes last element\n",
    "c.pop()\n",
    "c.pop()\n",
    "c.pop()\n",
    "c.pop()\n",
    "print(c)\n",
    "c.pop(1)\n",
    "c.reverse() #reverses the order of the list\n",
    "print(c)\n",
    "#Slicing goes by c[start:end:step]\n",
    "c[3:5:1] #start at 3, end at 5, step by 1\n",
    "c[3:]\n",
    "d=c[2:]\n",
    "c\n",
    "d\n",
    "\n"
   ]
  }
 ],
 "metadata": {
  "kernelspec": {
   "display_name": "Belajar",
   "language": "python",
   "name": "python3"
  },
  "language_info": {
   "codemirror_mode": {
    "name": "ipython",
    "version": 3
   },
   "file_extension": ".py",
   "mimetype": "text/x-python",
   "name": "python",
   "nbconvert_exporter": "python",
   "pygments_lexer": "ipython3",
   "version": "3.11.11"
  }
 },
 "nbformat": 4,
 "nbformat_minor": 5
}
